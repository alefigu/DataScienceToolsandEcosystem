{
 "cells": [
  {
   "cell_type": "markdown",
   "id": "e2769016-c061-4290-b782-51b6f90b0e4d",
   "metadata": {},
   "source": [
    "Data Science Tools and Ecosystem"
   ]
  },
  {
   "cell_type": "markdown",
   "id": "200f4315-40c4-4cfe-9bde-3a7bafbd55e9",
   "metadata": {
    "jupyter": {
     "outputs_hidden": true
    },
    "tags": []
   },
   "source": [
    "In this Notebook, Data Science Tools and Ecosystem are summarized"
   ]
  },
  {
   "cell_type": "markdown",
   "id": "7b580c90-315f-44b5-a818-4c9e693062b2",
   "metadata": {
    "jupyter": {
     "outputs_hidden": true
    },
    "tags": []
   },
   "source": [
    "Some of the popular languages that Data Scientists use are:\n",
    "1.R\n",
    "2.Python\n",
    "3.SQL"
   ]
  },
  {
   "cell_type": "markdown",
   "id": "b8e565d3-5822-42e6-b626-3da44c2e5dbf",
   "metadata": {},
   "source": [
    "Some of the commonly used libraries used by Data Scientists include:\n",
    "1.Matplotlib\n",
    "2.Pandas\n",
    "3.ggplot2"
   ]
  },
  {
   "cell_type": "markdown",
   "id": "7198b5a0-931d-4148-ab36-1bc9153af5bb",
   "metadata": {
    "tags": []
   },
   "source": [
    "\n",
    "| Datascience tools |\n",
    "| ----------------- |\n",
    "| Jupyter Notebooks |\n",
    "| SAS               |\n",
    "| Apache Spark      |"
   ]
  },
  {
   "cell_type": "markdown",
   "id": "e9ca16b7-a768-4cf5-89fe-ab366933ba33",
   "metadata": {},
   "source": [
    "Below are a few examples of evaluating arithmetic expressions in Python"
   ]
  },
  {
   "cell_type": "code",
   "execution_count": null,
   "id": "9fdf824c-767c-4307-97b8-f75e37484e59",
   "metadata": {},
   "outputs": [],
   "source": []
  },
  {
   "cell_type": "markdown",
   "id": "301f5a71-dfe9-4877-84bf-982035f35b41",
   "metadata": {
    "tags": []
   },
   "source": [
    "This a simple arithmetic expression to mutiply then add integers "
   ]
  },
  {
   "cell_type": "code",
   "execution_count": 27,
   "id": "62e7ae1f-0bf6-442d-95b1-9e1a73bfcd68",
   "metadata": {
    "tags": []
   },
   "outputs": [
    {
     "data": {
      "text/plain": [
       "17"
      ]
     },
     "execution_count": 27,
     "metadata": {},
     "output_type": "execute_result"
    }
   ],
   "source": [
    "(3*4)+5"
   ]
  },
  {
   "cell_type": "markdown",
   "id": "2b51e951-a85e-45cb-8d2d-7996f107568b",
   "metadata": {},
   "source": [
    "This will convert 200 minutes to hours by diving by 60"
   ]
  },
  {
   "cell_type": "code",
   "execution_count": 35,
   "id": "ede2b8cd-6076-440a-9038-57702a036df2",
   "metadata": {
    "tags": []
   },
   "outputs": [
    {
     "name": "stdout",
     "output_type": "stream",
     "text": [
      "3.3333333333333335\n"
     ]
    }
   ],
   "source": [
    "minutes = 200\n",
    "hours = minutes/60\n",
    "print (hours)\n"
   ]
  },
  {
   "cell_type": "markdown",
   "id": "67024689-4290-4856-a9cc-0a05f0e647e8",
   "metadata": {},
   "source": [
    "**Objectives:**\n",
    "- Data Science Languages\n",
    "- Data Science Tools\n",
    "- Basic Arithmetic"
   ]
  },
  {
   "cell_type": "markdown",
   "id": "9a63caed-fd02-4515-b524-f3003f9d1131",
   "metadata": {},
   "source": [
    "Author\n",
    "Alex Figueroa"
   ]
  }
 ],
 "metadata": {
  "kernelspec": {
   "display_name": "Python",
   "language": "python",
   "name": "conda-env-python-py"
  },
  "language_info": {
   "codemirror_mode": {
    "name": "ipython",
    "version": 3
   },
   "file_extension": ".py",
   "mimetype": "text/x-python",
   "name": "python",
   "nbconvert_exporter": "python",
   "pygments_lexer": "ipython3",
   "version": "3.7.12"
  }
 },
 "nbformat": 4,
 "nbformat_minor": 5
}
